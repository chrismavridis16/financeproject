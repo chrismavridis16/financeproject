{
 "cells": [
  {
   "cell_type": "code",
   "execution_count": 1,
   "id": "af086107",
   "metadata": {},
   "outputs": [
    {
     "name": "stdout",
     "output_type": "stream",
     "text": [
      "Collecting TA-LibNote: you may need to restart the kernel to use updated packages.\n",
      "\n",
      "  Downloading TA-Lib-0.4.24.tar.gz (269 kB)\n",
      "Requirement already satisfied: numpy in c:\\users\\xrism\\appdata\\local\\programs\\python\\python39\\lib\\site-packages (from TA-Lib) (1.23.1)\n",
      "Using legacy 'setup.py install' for TA-Lib, since package 'wheel' is not installed.\n",
      "Installing collected packages: TA-Lib\n",
      "    Running setup.py install for TA-Lib: started\n",
      "    Running setup.py install for TA-Lib: finished with status 'error'\n"
     ]
    },
    {
     "name": "stderr",
     "output_type": "stream",
     "text": [
      "    ERROR: Command errored out with exit status 1:\n",
      "     command: 'c:\\users\\xrism\\appdata\\local\\programs\\python\\python39\\python.exe' -u -c 'import sys, setuptools, tokenize; sys.argv[0] = '\"'\"'C:\\\\Users\\\\xrism\\\\AppData\\\\Local\\\\Temp\\\\pip-install-yw8h4to2\\\\ta-lib\\\\setup.py'\"'\"'; __file__='\"'\"'C:\\\\Users\\\\xrism\\\\AppData\\\\Local\\\\Temp\\\\pip-install-yw8h4to2\\\\ta-lib\\\\setup.py'\"'\"';f=getattr(tokenize, '\"'\"'open'\"'\"', open)(__file__);code=f.read().replace('\"'\"'\\r\\n'\"'\"', '\"'\"'\\n'\"'\"');f.close();exec(compile(code, __file__, '\"'\"'exec'\"'\"'))' install --record 'C:\\Users\\xrism\\AppData\\Local\\Temp\\pip-record-yn_ee2c3\\install-record.txt' --single-version-externally-managed --compile --install-headers 'c:\\users\\xrism\\appdata\\local\\programs\\python\\python39\\Include\\TA-Lib'\n",
      "         cwd: C:\\Users\\xrism\\AppData\\Local\\Temp\\pip-install-yw8h4to2\\ta-lib\\\n",
      "    Complete output (21 lines):\n",
      "    C:\\Users\\xrism\\AppData\\Local\\Temp\\pip-install-yw8h4to2\\ta-lib\\setup.py:77: UserWarning: Cannot find ta-lib library, installation may fail.\n",
      "      warnings.warn('Cannot find ta-lib library, installation may fail.')\n",
      "    running install\n",
      "    running build\n",
      "    running build_py\n",
      "    creating build\n",
      "    creating build\\lib.win-amd64-3.9\n",
      "    creating build\\lib.win-amd64-3.9\\talib\n",
      "    copying talib\\abstract.py -> build\\lib.win-amd64-3.9\\talib\n",
      "    copying talib\\deprecated.py -> build\\lib.win-amd64-3.9\\talib\n",
      "    copying talib\\stream.py -> build\\lib.win-amd64-3.9\\talib\n",
      "    copying talib\\test_abstract.py -> build\\lib.win-amd64-3.9\\talib\n",
      "    copying talib\\test_data.py -> build\\lib.win-amd64-3.9\\talib\n",
      "    copying talib\\test_func.py -> build\\lib.win-amd64-3.9\\talib\n",
      "    copying talib\\test_pandas.py -> build\\lib.win-amd64-3.9\\talib\n",
      "    copying talib\\test_polars.py -> build\\lib.win-amd64-3.9\\talib\n",
      "    copying talib\\test_stream.py -> build\\lib.win-amd64-3.9\\talib\n",
      "    copying talib\\__init__.py -> build\\lib.win-amd64-3.9\\talib\n",
      "    running build_ext\n",
      "    building 'talib._ta_lib' extension\n",
      "    error: Microsoft Visual C++ 14.0 is required. Get it with \"Build Tools for Visual Studio\": https://visualstudio.microsoft.com/downloads/\n",
      "    ----------------------------------------\n",
      "ERROR: Command errored out with exit status 1: 'c:\\users\\xrism\\appdata\\local\\programs\\python\\python39\\python.exe' -u -c 'import sys, setuptools, tokenize; sys.argv[0] = '\"'\"'C:\\\\Users\\\\xrism\\\\AppData\\\\Local\\\\Temp\\\\pip-install-yw8h4to2\\\\ta-lib\\\\setup.py'\"'\"'; __file__='\"'\"'C:\\\\Users\\\\xrism\\\\AppData\\\\Local\\\\Temp\\\\pip-install-yw8h4to2\\\\ta-lib\\\\setup.py'\"'\"';f=getattr(tokenize, '\"'\"'open'\"'\"', open)(__file__);code=f.read().replace('\"'\"'\\r\\n'\"'\"', '\"'\"'\\n'\"'\"');f.close();exec(compile(code, __file__, '\"'\"'exec'\"'\"'))' install --record 'C:\\Users\\xrism\\AppData\\Local\\Temp\\pip-record-yn_ee2c3\\install-record.txt' --single-version-externally-managed --compile --install-headers 'c:\\users\\xrism\\appdata\\local\\programs\\python\\python39\\Include\\TA-Lib' Check the logs for full command output.\n",
      "WARNING: You are using pip version 20.2.3; however, version 22.2.1 is available.\n",
      "You should consider upgrading via the 'c:\\users\\xrism\\appdata\\local\\programs\\python\\python39\\python.exe -m pip install --upgrade pip' command.\n"
     ]
    }
   ],
   "source": [
    "pip install TA-Lib"
   ]
  },
  {
   "cell_type": "code",
   "execution_count": 2,
   "id": "0d4c2e54",
   "metadata": {},
   "outputs": [
    {
     "ename": "ModuleNotFoundError",
     "evalue": "No module named 'talib'",
     "output_type": "error",
     "traceback": [
      "\u001b[1;31m---------------------------------------------------------------------------\u001b[0m",
      "\u001b[1;31mModuleNotFoundError\u001b[0m                       Traceback (most recent call last)",
      "Input \u001b[1;32mIn [2]\u001b[0m, in \u001b[0;36m<cell line: 3>\u001b[1;34m()\u001b[0m\n\u001b[0;32m      1\u001b[0m \u001b[38;5;28;01mfrom\u001b[39;00m \u001b[38;5;21;01mnsepy\u001b[39;00m \u001b[38;5;28;01mimport\u001b[39;00m get_history\n\u001b[0;32m      2\u001b[0m \u001b[38;5;28;01mfrom\u001b[39;00m \u001b[38;5;21;01mdatetime\u001b[39;00m \u001b[38;5;28;01mimport\u001b[39;00m date\n\u001b[1;32m----> 3\u001b[0m \u001b[38;5;28;01mfrom\u001b[39;00m \u001b[38;5;21;01mtalib\u001b[39;00m \u001b[38;5;28;01mimport\u001b[39;00m ADX\n\u001b[0;32m      4\u001b[0m grasim \u001b[38;5;241m=\u001b[39m get_history(symbol\u001b[38;5;241m=\u001b[39m\u001b[38;5;124m\"\u001b[39m\u001b[38;5;124mGRASIM\u001b[39m\u001b[38;5;124m\"\u001b[39m, start\u001b[38;5;241m=\u001b[39mdate(\u001b[38;5;241m2020\u001b[39m,\u001b[38;5;241m7\u001b[39m,\u001b[38;5;241m26\u001b[39m), end\u001b[38;5;241m=\u001b[39mdate(\u001b[38;5;241m2022\u001b[39m,\u001b[38;5;241m7\u001b[39m,\u001b[38;5;241m25\u001b[39m))\n\u001b[0;32m      5\u001b[0m high \u001b[38;5;241m=\u001b[39m grasim[\u001b[38;5;124m'\u001b[39m\u001b[38;5;124mHigh\u001b[39m\u001b[38;5;124m'\u001b[39m]\n",
      "\u001b[1;31mModuleNotFoundError\u001b[0m: No module named 'talib'"
     ]
    }
   ],
   "source": [
    "from nsepy import get_history\n",
    "from datetime import date\n",
    "from talib import ADX\n",
    "grasim = get_history(symbol=\"GRASIM\", start=date(2020,7,26), end=date(2022,7,25))\n",
    "high = grasim['High']\n",
    "low = grasim['Low']\n",
    "close  = grasim['Close']\n",
    "real = ADX(high, low, close, timeperiod=14)\n",
    "real[-22:]"
   ]
  },
  {
   "cell_type": "code",
   "execution_count": 3,
   "id": "f7645cab",
   "metadata": {},
   "outputs": [
    {
     "name": "stdout",
     "output_type": "stream",
     "text": [
      "Note: you may need to restart the kernel to use updated packages.\n"
     ]
    },
    {
     "name": "stderr",
     "output_type": "stream",
     "text": [
      "ERROR: Could not find a version that satisfies the requirement talib (from versions: none)\n",
      "ERROR: No matching distribution found for talib\n",
      "WARNING: You are using pip version 20.2.3; however, version 22.2.1 is available.\n",
      "You should consider upgrading via the 'c:\\users\\xrism\\appdata\\local\\programs\\python\\python39\\python.exe -m pip install --upgrade pip' command.\n"
     ]
    }
   ],
   "source": [
    "pip install talib"
   ]
  },
  {
   "cell_type": "code",
   "execution_count": 4,
   "id": "ea35c198",
   "metadata": {},
   "outputs": [
    {
     "ename": "ImportError",
     "evalue": "matplotlib is required for plotting when the default backend \"matplotlib\" is selected.",
     "output_type": "error",
     "traceback": [
      "\u001b[1;31m---------------------------------------------------------------------------\u001b[0m",
      "\u001b[1;31mImportError\u001b[0m                               Traceback (most recent call last)",
      "Input \u001b[1;32mIn [4]\u001b[0m, in \u001b[0;36m<cell line: 4>\u001b[1;34m()\u001b[0m\n\u001b[0;32m      2\u001b[0m \u001b[38;5;28;01mfrom\u001b[39;00m \u001b[38;5;21;01mdatetime\u001b[39;00m \u001b[38;5;28;01mimport\u001b[39;00m date\n\u001b[0;32m      3\u001b[0m data \u001b[38;5;241m=\u001b[39m get_history(symbol\u001b[38;5;241m=\u001b[39m\u001b[38;5;124m\"\u001b[39m\u001b[38;5;124mSBIN\u001b[39m\u001b[38;5;124m\"\u001b[39m, start\u001b[38;5;241m=\u001b[39mdate(\u001b[38;5;241m2015\u001b[39m,\u001b[38;5;241m1\u001b[39m,\u001b[38;5;241m1\u001b[39m), end\u001b[38;5;241m=\u001b[39mdate(\u001b[38;5;241m2015\u001b[39m,\u001b[38;5;241m1\u001b[39m,\u001b[38;5;241m31\u001b[39m))\n\u001b[1;32m----> 4\u001b[0m \u001b[43mdata\u001b[49m\u001b[43m[\u001b[49m\u001b[43m[\u001b[49m\u001b[38;5;124;43m'\u001b[39;49m\u001b[38;5;124;43mClose\u001b[39;49m\u001b[38;5;124;43m'\u001b[39;49m\u001b[43m]\u001b[49m\u001b[43m]\u001b[49m\u001b[38;5;241;43m.\u001b[39;49m\u001b[43mplot\u001b[49m\u001b[43m(\u001b[49m\u001b[43m)\u001b[49m\n",
      "File \u001b[1;32mc:\\users\\xrism\\appdata\\local\\programs\\python\\python39\\lib\\site-packages\\pandas\\plotting\\_core.py:892\u001b[0m, in \u001b[0;36mPlotAccessor.__call__\u001b[1;34m(self, *args, **kwargs)\u001b[0m\n\u001b[0;32m    891\u001b[0m \u001b[38;5;28;01mdef\u001b[39;00m \u001b[38;5;21m__call__\u001b[39m(\u001b[38;5;28mself\u001b[39m, \u001b[38;5;241m*\u001b[39margs, \u001b[38;5;241m*\u001b[39m\u001b[38;5;241m*\u001b[39mkwargs):\n\u001b[1;32m--> 892\u001b[0m     plot_backend \u001b[38;5;241m=\u001b[39m \u001b[43m_get_plot_backend\u001b[49m\u001b[43m(\u001b[49m\u001b[43mkwargs\u001b[49m\u001b[38;5;241;43m.\u001b[39;49m\u001b[43mpop\u001b[49m\u001b[43m(\u001b[49m\u001b[38;5;124;43m\"\u001b[39;49m\u001b[38;5;124;43mbackend\u001b[39;49m\u001b[38;5;124;43m\"\u001b[39;49m\u001b[43m,\u001b[49m\u001b[43m \u001b[49m\u001b[38;5;28;43;01mNone\u001b[39;49;00m\u001b[43m)\u001b[49m\u001b[43m)\u001b[49m\n\u001b[0;32m    894\u001b[0m     x, y, kind, kwargs \u001b[38;5;241m=\u001b[39m \u001b[38;5;28mself\u001b[39m\u001b[38;5;241m.\u001b[39m_get_call_args(\n\u001b[0;32m    895\u001b[0m         plot_backend\u001b[38;5;241m.\u001b[39m\u001b[38;5;18m__name__\u001b[39m, \u001b[38;5;28mself\u001b[39m\u001b[38;5;241m.\u001b[39m_parent, args, kwargs\n\u001b[0;32m    896\u001b[0m     )\n\u001b[0;32m    898\u001b[0m     kind \u001b[38;5;241m=\u001b[39m \u001b[38;5;28mself\u001b[39m\u001b[38;5;241m.\u001b[39m_kind_aliases\u001b[38;5;241m.\u001b[39mget(kind, kind)\n",
      "File \u001b[1;32mc:\\users\\xrism\\appdata\\local\\programs\\python\\python39\\lib\\site-packages\\pandas\\plotting\\_core.py:1849\u001b[0m, in \u001b[0;36m_get_plot_backend\u001b[1;34m(backend)\u001b[0m\n\u001b[0;32m   1846\u001b[0m \u001b[38;5;28;01mif\u001b[39;00m backend \u001b[38;5;129;01min\u001b[39;00m _backends:\n\u001b[0;32m   1847\u001b[0m     \u001b[38;5;28;01mreturn\u001b[39;00m _backends[backend]\n\u001b[1;32m-> 1849\u001b[0m module \u001b[38;5;241m=\u001b[39m \u001b[43m_load_backend\u001b[49m\u001b[43m(\u001b[49m\u001b[43mbackend\u001b[49m\u001b[43m)\u001b[49m\n\u001b[0;32m   1850\u001b[0m _backends[backend] \u001b[38;5;241m=\u001b[39m module\n\u001b[0;32m   1851\u001b[0m \u001b[38;5;28;01mreturn\u001b[39;00m module\n",
      "File \u001b[1;32mc:\\users\\xrism\\appdata\\local\\programs\\python\\python39\\lib\\site-packages\\pandas\\plotting\\_core.py:1787\u001b[0m, in \u001b[0;36m_load_backend\u001b[1;34m(backend)\u001b[0m\n\u001b[0;32m   1785\u001b[0m         module \u001b[38;5;241m=\u001b[39m importlib\u001b[38;5;241m.\u001b[39mimport_module(\u001b[38;5;124m\"\u001b[39m\u001b[38;5;124mpandas.plotting._matplotlib\u001b[39m\u001b[38;5;124m\"\u001b[39m)\n\u001b[0;32m   1786\u001b[0m     \u001b[38;5;28;01mexcept\u001b[39;00m \u001b[38;5;167;01mImportError\u001b[39;00m:\n\u001b[1;32m-> 1787\u001b[0m         \u001b[38;5;28;01mraise\u001b[39;00m \u001b[38;5;167;01mImportError\u001b[39;00m(\n\u001b[0;32m   1788\u001b[0m             \u001b[38;5;124m\"\u001b[39m\u001b[38;5;124mmatplotlib is required for plotting when the \u001b[39m\u001b[38;5;124m\"\u001b[39m\n\u001b[0;32m   1789\u001b[0m             \u001b[38;5;124m'\u001b[39m\u001b[38;5;124mdefault backend \u001b[39m\u001b[38;5;124m\"\u001b[39m\u001b[38;5;124mmatplotlib\u001b[39m\u001b[38;5;124m\"\u001b[39m\u001b[38;5;124m is selected.\u001b[39m\u001b[38;5;124m'\u001b[39m\n\u001b[0;32m   1790\u001b[0m         ) \u001b[38;5;28;01mfrom\u001b[39;00m \u001b[38;5;28mNone\u001b[39m\n\u001b[0;32m   1791\u001b[0m     \u001b[38;5;28;01mreturn\u001b[39;00m module\n\u001b[0;32m   1793\u001b[0m found_backend \u001b[38;5;241m=\u001b[39m \u001b[38;5;28;01mFalse\u001b[39;00m\n",
      "\u001b[1;31mImportError\u001b[0m: matplotlib is required for plotting when the default backend \"matplotlib\" is selected."
     ]
    }
   ],
   "source": [
    "from nsepy import get_history\n",
    "from datetime import date\n",
    "data = get_history(symbol=\"SBIN\", start=date(2015,1,1), end=date(2015,1,31))\n",
    "data[['Close']].plot()"
   ]
  },
  {
   "cell_type": "code",
   "execution_count": 1,
   "id": "c8e2b276",
   "metadata": {},
   "outputs": [
    {
     "ename": "SyntaxError",
     "evalue": "invalid syntax (404517451.py, line 1)",
     "output_type": "error",
     "traceback": [
      "\u001b[1;36m  Input \u001b[1;32mIn [1]\u001b[1;36m\u001b[0m\n\u001b[1;33m    $sqlite3 testDB.db\u001b[0m\n\u001b[1;37m    ^\u001b[0m\n\u001b[1;31mSyntaxError\u001b[0m\u001b[1;31m:\u001b[0m invalid syntax\n"
     ]
    }
   ],
   "source": [
    "$sqlite3 testDB.db\n",
    "SQLite version 3.7.15.2 2013-01-09 11:53:05\n",
    "Enter \".help\" for instructions\n",
    "Enter SQL statements terminated with a \";\"\n",
    "sqlite>"
   ]
  },
  {
   "cell_type": "code",
   "execution_count": null,
   "id": "1a03f59e",
   "metadata": {},
   "outputs": [],
   "source": []
  }
 ],
 "metadata": {
  "kernelspec": {
   "display_name": "Python 3 (ipykernel)",
   "language": "python",
   "name": "python3"
  },
  "language_info": {
   "codemirror_mode": {
    "name": "ipython",
    "version": 3
   },
   "file_extension": ".py",
   "mimetype": "text/x-python",
   "name": "python",
   "nbconvert_exporter": "python",
   "pygments_lexer": "ipython3",
   "version": "3.9.1"
  }
 },
 "nbformat": 4,
 "nbformat_minor": 5
}
